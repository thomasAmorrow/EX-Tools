{
  "nbformat": 4,
  "nbformat_minor": 0,
  "metadata": {
    "colab": {
      "provenance": [],
      "authorship_tag": "ABX9TyOBHR1qzvZ1/Y89P4uWsds1",
      "include_colab_link": true
    },
    "kernelspec": {
      "name": "python3",
      "display_name": "Python 3"
    },
    "language_info": {
      "name": "python"
    }
  },
  "cells": [
    {
      "cell_type": "markdown",
      "metadata": {
        "id": "view-in-github",
        "colab_type": "text"
      },
      "source": [
        "<a href=\"https://colab.research.google.com/github/thomasAmorrow/EX-Tools/blob/main/ExtractEXChatLogNames.ipynb\" target=\"_parent\"><img src=\"https://colab.research.google.com/assets/colab-badge.svg\" alt=\"Open In Colab\"/></a>"
      ]
    },
    {
      "cell_type": "code",
      "execution_count": 1,
      "metadata": {
        "id": "Lce34zlJAyOT"
      },
      "outputs": [],
      "source": [
        "import os\n",
        "import re\n",
        "from datetime import datetime\n",
        "\n",
        "# Define the regular expression pattern for finding content between < and >\n",
        "pattern = r'<([^<>]+)>'\n",
        "\n",
        "# Get the list of files in the current directory\n",
        "files = [f for f in os.listdir('.') if os.path.isfile(f)]\n",
        "\n",
        "# Loop through each file in the directory\n",
        "for filename in files:\n",
        "    # Check if the file has a .txt extension\n",
        "    if filename.endswith('.txt'):\n",
        "        # Get the date from the filename\n",
        "        date_str = filename.split('.')[0]\n",
        "        date = datetime.strptime(date_str, '%Y-%m-%d')\n",
        "        date_formatted = date.strftime('%Y%m%d')\n",
        "        \n",
        "        # Create a set to store the unique values\n",
        "        unique_values = set()\n",
        "        \n",
        "        # Open the input file for reading\n",
        "        with open(filename, 'r') as input_file:\n",
        "            # Loop through each line in the file\n",
        "            for line in input_file:\n",
        "                # Find all matches of the pattern in the line\n",
        "                matches = re.findall(pattern, line)\n",
        "                \n",
        "                # Add each match to the set of unique values\n",
        "                for match in matches:\n",
        "                    unique_values.add(match)\n",
        "        \n",
        "        # Create the output file with the formatted date in the name\n",
        "        output_filename = f'output_{date_formatted}.txt'\n",
        "        with open(output_filename, 'w') as output_file:\n",
        "            # Write each unique value to the output file\n",
        "            for value in unique_values:\n",
        "                output_file.write(value + '\\n')"
      ]
    }
  ]
}