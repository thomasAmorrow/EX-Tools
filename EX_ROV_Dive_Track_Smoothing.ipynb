{
  "nbformat": 4,
  "nbformat_minor": 0,
  "metadata": {
    "colab": {
      "name": "EX-ROV-Dive-Track-Smoothing.ipynb",
      "provenance": [],
      "collapsed_sections": [],
      "include_colab_link": true
    },
    "kernelspec": {
      "name": "python3",
      "display_name": "Python 3"
    },
    "language_info": {
      "name": "python"
    }
  },
  "cells": [
    {
      "cell_type": "markdown",
      "metadata": {
        "id": "view-in-github",
        "colab_type": "text"
      },
      "source": [
        "<a href=\"https://colab.research.google.com/github/thomasAmorrow/EX-Tools/blob/main/EX_ROV_Dive_Track_Smoothing.ipynb\" target=\"_parent\"><img src=\"https://colab.research.google.com/assets/colab-badge.svg\" alt=\"Open In Colab\"/></a>"
      ]
    },
    {
      "cell_type": "markdown",
      "source": [
        "# **Dive track smoothing algorithm for ROV D2 Data**\n",
        "\n",
        "A simple python script that calculates a smoothed moving average of position data from ROV *Deep Discoverer*\n"
      ],
      "metadata": {
        "id": "odfPuLgu03X5"
      }
    },
    {
      "cell_type": "markdown",
      "source": [
        "### Record\n",
        "Original code\n",
        "> *Thomas Morrow, 10 February 2022*"
      ],
      "metadata": {
        "id": "gMjHElpb48VQ"
      }
    },
    {
      "cell_type": "markdown",
      "source": [
        "# Upload csv file\n",
        "Import your dive track data when prompted below the code snippet, the top few lines of your imported table will appear on successful import"
      ],
      "metadata": {
        "id": "rrNViKem1zjz"
      }
    },
    {
      "cell_type": "code",
      "execution_count": null,
      "metadata": {
        "id": "vz-jH8T_Uk2c"
      },
      "outputs": [],
      "source": [
        "import pandas as pd\n",
        "\n",
        "from google.colab import files\n",
        "\n",
        "uploaded = files.upload()\n",
        "\n",
        "for fn in uploaded.keys():\n",
        "  print('User uploaded file \"{name}\" with length {length} bytes'.format(\n",
        "      name=fn, length=len(uploaded[fn])))\n",
        "  \n",
        "track = pd.read_csv(fn) # track is the name of the dataframe we imported from csv\n",
        "\n",
        "track.head() # show first lines of your track to make sure things imported"
      ]
    },
    {
      "cell_type": "markdown",
      "source": [
        "# Visualize current track\n",
        "Plot the dive track in 3-D for a visualization check"
      ],
      "metadata": {
        "id": "aeRuewRP5WwK"
      }
    },
    {
      "cell_type": "code",
      "source": [
        "from mpl_toolkits import mplot3d\n",
        "import numpy as np\n",
        "import matplotlib.pyplot as plt\n",
        "\n",
        "# the names of your columns above should correspond to these arrays\n",
        "xdata = track.LON_DD \n",
        "ydata = track.LAT_DD\n",
        "zdata = track.DEPTH\n",
        "ttime = track.UNIXTIME\n",
        "\n",
        "fig = plt.figure()\n",
        "ax = plt.axes(projection='3d')\n",
        "ax.plot3D(xdata, ydata, zdata, 'gray')"
      ],
      "metadata": {
        "id": "1k-6qr7o5T-1"
      },
      "execution_count": null,
      "outputs": []
    },
    {
      "cell_type": "markdown",
      "source": [
        "# Smoothe the dive track using a windowed average \n",
        "Windowed average algorithm"
      ],
      "metadata": {
        "id": "JlRDQ-pZ7pJX"
      }
    },
    {
      "cell_type": "code",
      "source": [
        "import math\n",
        "\n",
        "windtime = 60 * 5 # 60 seconds times 5 minutes - feel free to adjust window time\n",
        "\n",
        "xdatawin=xdata.rolling(windtime).mean()\n",
        "ydatawin=ydata.rolling(windtime).mean()\n",
        "zdatawin=zdata.rolling(windtime).mean()\n",
        "\n",
        "fig = plt.figure()\n",
        "ax = plt.axes(projection='3d')\n",
        "ax.plot3D(xdata, ydata, zdata, 'gray')\n",
        "ax.scatter3D(xdatawin, ydatawin, zdatawin, c=ttime, cmap='viridis', s=1)"
      ],
      "metadata": {
        "id": "N9WFbj4i8XVu"
      },
      "execution_count": null,
      "outputs": []
    },
    {
      "cell_type": "markdown",
      "source": [
        "# Generate new csv output dive track\n",
        "Download prompt appears at end of execution with new filename_smoothed.csv"
      ],
      "metadata": {
        "id": "AB5TiqEZE380"
      }
    },
    {
      "cell_type": "code",
      "source": [
        "trackout=track.copy() # make a copy of the original data\n",
        "\n",
        "# replace with smoothed track\n",
        "trackout['LON_DD']=xdatawin\n",
        "trackout['LAT_DD']=ydatawin\n",
        "trackout['DEPTH']=zdatawin\n",
        "\n",
        "# drop first rows (no values in moving average)\n",
        "trackout=trackout.drop(trackout.index[range(windtime-1)])\n",
        "\n",
        "# display your new table\n",
        "trackout.head()\n",
        "\n",
        "# output filename construction\n",
        "fnout=(fn.replace(\".csv\", \"_smoothed.csv\"))\n",
        "print(fnout)\n",
        "\n",
        "# output\n",
        "trackout.to_csv(fnout,index=False)\n",
        "\n",
        "# prompt download\n",
        "files.download(fnout)"
      ],
      "metadata": {
        "id": "EdnCCLknE-RG"
      },
      "execution_count": null,
      "outputs": []
    }
  ]
}